{
 "cells": [
  {
   "cell_type": "markdown",
   "id": "16161693",
   "metadata": {},
   "source": [
    "aaignments from 5/15"
   ]
  },
  {
   "cell_type": "markdown",
   "id": "4c5bb968",
   "metadata": {},
   "source": [
    "import random\n",
    "import string\n",
    "\n",
    "# Generate unique lottery numbers\n",
    "def generate_lottery_numbers(amount, lower, upper):\n",
    "    return random.sample(range(lower, upper + 1), amount)\n",
    "\n",
    "print(f\"Lottery numbers: {generate_lottery_numbers(7, 1, 40)}\")"
   ]
  },
  {
   "cell_type": "code",
   "execution_count": null,
   "id": "703b946b",
   "metadata": {},
   "outputs": [
    {
     "ename": "KeyboardInterrupt",
     "evalue": "",
     "output_type": "error",
     "traceback": [
      "\u001b[1;31m---------------------------------------------------------------------------\u001b[0m",
      "\u001b[1;31mKeyboardInterrupt\u001b[0m                         Traceback (most recent call last)",
      "Cell \u001b[1;32mIn[9], line 23\u001b[0m\n\u001b[0;32m     16\u001b[0m         \u001b[38;5;28;01mreturn\u001b[39;00m(\u001b[38;5;124mf\u001b[39m\u001b[38;5;124m\"\u001b[39m\u001b[38;5;124mLottery numbers: \u001b[39m\u001b[38;5;132;01m{\u001b[39;00mresults\u001b[38;5;132;01m}\u001b[39;00m\u001b[38;5;124m\"\u001b[39m)\n\u001b[0;32m     19\u001b[0m \u001b[38;5;66;03m#print(f\"Lottery numbers: {generate_lottery_numbers(amount, lower, upper)}\")\u001b[39;00m\n\u001b[0;32m     20\u001b[0m \n\u001b[0;32m     21\u001b[0m \n\u001b[0;32m     22\u001b[0m \u001b[38;5;66;03m#test the code\u001b[39;00m\n\u001b[1;32m---> 23\u001b[0m \u001b[43mgenerate_lottery_numbers\u001b[49m\u001b[43m(\u001b[49m\u001b[38;5;241;43m6\u001b[39;49m\u001b[43m,\u001b[49m\u001b[38;5;241;43m1\u001b[39;49m\u001b[43m,\u001b[49m\u001b[38;5;241;43m54\u001b[39;49m\u001b[43m)\u001b[49m\n\u001b[0;32m     24\u001b[0m generate_lottery_numbers(\u001b[38;5;241m8\u001b[39m,\u001b[38;5;241m1\u001b[39m,\u001b[38;5;241m64\u001b[39m)\n\u001b[0;32m     25\u001b[0m generate_lottery_numbers(\u001b[38;5;241m0\u001b[39m,\u001b[38;5;241m1\u001b[39m,\u001b[38;5;241m30\u001b[39m)\n",
      "Cell \u001b[1;32mIn[9], line 6\u001b[0m, in \u001b[0;36mgenerate_lottery_numbers\u001b[1;34m(amount, lower, upper)\u001b[0m\n\u001b[0;32m      3\u001b[0m \u001b[38;5;28;01mdef\u001b[39;00m\u001b[38;5;250m \u001b[39m\u001b[38;5;21mgenerate_lottery_numbers\u001b[39m(amount, lower, upper):\n\u001b[0;32m      5\u001b[0m     \u001b[38;5;28;01mwhile\u001b[39;00m amount \u001b[38;5;241m>\u001b[39m \u001b[38;5;241m0\u001b[39m:\n\u001b[1;32m----> 6\u001b[0m         results \u001b[38;5;241m=\u001b[39m \u001b[43mrandom\u001b[49m\u001b[38;5;241;43m.\u001b[39;49m\u001b[43msample\u001b[49m\u001b[43m(\u001b[49m\u001b[38;5;28;43mrange\u001b[39;49m\u001b[43m(\u001b[49m\u001b[43mlower\u001b[49m\u001b[43m,\u001b[49m\u001b[43m \u001b[49m\u001b[43mupper\u001b[49m\u001b[38;5;241;43m+\u001b[39;49m\u001b[38;5;241;43m1\u001b[39;49m\u001b[43m)\u001b[49m\u001b[43m,\u001b[49m\u001b[43m \u001b[49m\u001b[43mamount\u001b[49m\u001b[43m)\u001b[49m\n\u001b[0;32m      8\u001b[0m         \u001b[38;5;28;01mif\u001b[39;00m amount \u001b[38;5;241m<\u001b[39m\u001b[38;5;241m=\u001b[39m \u001b[38;5;241m0\u001b[39m:\n\u001b[0;32m      9\u001b[0m             \u001b[38;5;28mprint\u001b[39m(\u001b[38;5;124m\"\u001b[39m\u001b[38;5;124mAmount chosen must be at least 1!\u001b[39m\u001b[38;5;124m\"\u001b[39m)\n",
      "File \u001b[1;32mC:\\Program Files\\WindowsApps\\PythonSoftwareFoundation.Python.3.9_3.9.3568.0_x64__qbz5n2kfra8p0\\lib\\random.py:453\u001b[0m, in \u001b[0;36mRandom.sample\u001b[1;34m(self, population, k, counts)\u001b[0m\n\u001b[0;32m    451\u001b[0m setsize \u001b[38;5;241m=\u001b[39m \u001b[38;5;241m21\u001b[39m        \u001b[38;5;66;03m# size of a small set minus size of an empty list\u001b[39;00m\n\u001b[0;32m    452\u001b[0m \u001b[38;5;28;01mif\u001b[39;00m k \u001b[38;5;241m>\u001b[39m \u001b[38;5;241m5\u001b[39m:\n\u001b[1;32m--> 453\u001b[0m     setsize \u001b[38;5;241m+\u001b[39m\u001b[38;5;241m=\u001b[39m \u001b[38;5;241m4\u001b[39m \u001b[38;5;241m*\u001b[39m\u001b[38;5;241m*\u001b[39m _ceil(_log(k \u001b[38;5;241m*\u001b[39m \u001b[38;5;241m3\u001b[39m, \u001b[38;5;241m4\u001b[39m))  \u001b[38;5;66;03m# table size for big sets\u001b[39;00m\n\u001b[0;32m    454\u001b[0m \u001b[38;5;28;01mif\u001b[39;00m n \u001b[38;5;241m<\u001b[39m\u001b[38;5;241m=\u001b[39m setsize:\n\u001b[0;32m    455\u001b[0m     \u001b[38;5;66;03m# An n-length list is smaller than a k-length set.\u001b[39;00m\n\u001b[0;32m    456\u001b[0m     \u001b[38;5;66;03m# Invariant:  non-selected at pool[0 : n-i]\u001b[39;00m\n\u001b[0;32m    457\u001b[0m     pool \u001b[38;5;241m=\u001b[39m \u001b[38;5;28mlist\u001b[39m(population)\n",
      "\u001b[1;31mKeyboardInterrupt\u001b[0m: "
     ]
    }
   ],
   "source": [
    "import random\n",
    "\n",
    "def generate_lottery_numbers(amount, lower, upper):\n",
    "\n",
    "    while amount > 0:\n",
    "        results = random.sample(range(lower, upper+1), amount)\n",
    "        amount -= 1\n",
    "        if amount <= 0:\n",
    "            print(\"Amount chosen must be at least 1!\")\n",
    "        quit\n",
    "        if upper - lower + 1 < amount:\n",
    "            print(\"Amount chosen cannot exceed available numbers.\")\n",
    "        quit\n",
    "    else:\n",
    "        results = random.sample(range(lower, upper+1), amount)\n",
    "        return(f\"Lottery numbers: {results}\")\n",
    "        \n",
    "        \n",
    "#print(f\"Lottery numbers: {generate_lottery_numbers(amount, lower, upper)}\")\n",
    "\n",
    "\n",
    "#test the code\n",
    "generate_lottery_numbers(6,1,54)\n",
    "generate_lottery_numbers(8,1,64)\n",
    "generate_lottery_numbers(0,1,30)\n",
    "generate_lottery_numbers(32,1,30)"
   ]
  },
  {
   "cell_type": "markdown",
   "id": "b655ef11",
   "metadata": {},
   "source": [
    "# Password generator\n",
    "def generate_password(length, use_special_chars=False):\n",
    "    chars = string.ascii_letters + string.digits\n",
    "    if use_special_chars:\n",
    "        chars += string.punctuation\n",
    "    return ''.join(random.choice(chars) for _ in range(length))\n",
    "\n",
    "print(f\"Simple password: {generate_password(10)}\")\n",
    "print(f\"Complex password: {generate_password(12, True)}\")"
   ]
  },
  {
   "cell_type": "markdown",
   "id": "124a25ac",
   "metadata": {},
   "source": [
    "Write a function to simulate rolling a six-sided die using random.randint(1, 6).\n"
   ]
  },
  {
   "cell_type": "code",
   "execution_count": 12,
   "id": "e4a40983",
   "metadata": {},
   "outputs": [
    {
     "name": "stdout",
     "output_type": "stream",
     "text": [
      "4\n",
      "5\n",
      "3\n",
      "\n",
      "1\n",
      "\n",
      "6\n",
      "1\n",
      "3\n",
      "2\n",
      "4\n",
      "\n",
      "\n"
     ]
    }
   ],
   "source": [
    "import random\n",
    "\n",
    "roll = random.randint(1, 6)\n",
    "def roll_dice(roll, times):      \n",
    "    while times > 0:\n",
    "        print(random.randint(1, 6))\n",
    "        #print(roll)\n",
    "        times -= 1\n",
    "    else:\n",
    "        print ()\n",
    "\n",
    "\n",
    "#test the code\n",
    "roll_dice(roll, 3)\n",
    "roll_dice(roll, 1)\n",
    "roll_dice(roll, 5)\n",
    "roll_dice(roll, 0)"
   ]
  },
  {
   "cell_type": "markdown",
   "id": "22d4f9f7",
   "metadata": {},
   "source": [
    "Create a program to randomly shuffle a list of 5 names and print the new order.\n"
   ]
  },
  {
   "cell_type": "code",
   "execution_count": 26,
   "id": "0b61c045",
   "metadata": {},
   "outputs": [
    {
     "name": "stdout",
     "output_type": "stream",
     "text": [
      "['Nora', 'Sara', 'Monroe', 'Taylor', 'Tessa']\n"
     ]
    }
   ],
   "source": [
    "import random\n",
    "names = [\"Monroe\", \"Tessa\", \"Taylor\", \"Nora\", \"Sara\"]\n",
    "random.shuffle(names)\n",
    "print(names) "
   ]
  },
  {
   "cell_type": "code",
   "execution_count": null,
   "id": "9a80faff",
   "metadata": {},
   "outputs": [],
   "source": [
    "#Modify the generate_password() function to ensure at least one uppercase letter is included.\n"
   ]
  },
  {
   "cell_type": "code",
   "execution_count": null,
   "id": "8b042faf",
   "metadata": {},
   "outputs": [],
   "source": []
  },
  {
   "cell_type": "code",
   "execution_count": null,
   "id": "4f3b3bec",
   "metadata": {},
   "outputs": [],
   "source": [
    "#Use random.choice() to pick a random word from a list of 10 words and print it as a \"word of the day.\""
   ]
  },
  {
   "cell_type": "code",
   "execution_count": 23,
   "id": "abad2507",
   "metadata": {},
   "outputs": [
    {
     "name": "stdout",
     "output_type": "stream",
     "text": [
      "The word of the day is apparently.\n"
     ]
    }
   ],
   "source": [
    "random_list = [\"wired\", \"All-Star\", \"tumble\", \"emphasis\",\"fish\", \"barn\", \"apparently\", \"occur\", \"text\", \"adopt\"]\n",
    "wotd = random.choice(random_list)\n",
    "print(f\"The word of the day is {wotd}.\")"
   ]
  },
  {
   "cell_type": "markdown",
   "id": "df80eb1d",
   "metadata": {},
   "source": [
    "Create a module called math_utils.py with functions to calculate the area of a rectangle and a triangle.\n",
    "\n",
    "Write a script that imports math_utils and uses both functions to print areas for given dimensions.\n",
    "\n",
    "Add a function to your module to calculate the perimeter of a rectangle and test it.\n",
    "\n",
    "Write a short docstring for each function in your module explaining what it does and its parameters."
   ]
  },
  {
   "cell_type": "code",
   "execution_count": null,
   "id": "e3198512",
   "metadata": {},
   "outputs": [],
   "source": []
  },
  {
   "cell_type": "markdown",
   "id": "1a5a3997",
   "metadata": {},
   "source": [
    "Practice Exercises\n",
    "Use a list comprehension to create a list of even numbers from 1 to 20.\n",
    "\n"
   ]
  },
  {
   "cell_type": "code",
   "execution_count": null,
   "id": "0f34a7f9",
   "metadata": {},
   "outputs": [],
   "source": []
  },
  {
   "cell_type": "code",
   "execution_count": null,
   "id": "0cb59439",
   "metadata": {},
   "outputs": [],
   "source": [
    "#Write a lambda function to check if a number is divisible by 3 and use it with filter() on a list of numbers.\n",
    "\n"
   ]
  },
  {
   "cell_type": "code",
   "execution_count": null,
   "id": "a8225066",
   "metadata": {},
   "outputs": [],
   "source": []
  },
  {
   "cell_type": "markdown",
   "id": "263f54ab",
   "metadata": {},
   "source": [
    "Create a decorator that prints \"Starting...\" before a function runs and \"Done!\" after it finishes.\n",
    "\n"
   ]
  },
  {
   "cell_type": "code",
   "execution_count": null,
   "id": "e9738c00",
   "metadata": {},
   "outputs": [],
   "source": []
  },
  {
   "cell_type": "markdown",
   "id": "7eb3627d",
   "metadata": {},
   "source": [
    "Write a simple context manager that prints \"Opening connection\" on entry and \"Closing connection\" on exit."
   ]
  },
  {
   "cell_type": "code",
   "execution_count": null,
   "id": "628026ce",
   "metadata": {},
   "outputs": [],
   "source": []
  }
 ],
 "metadata": {
  "kernelspec": {
   "display_name": "Python 3",
   "language": "python",
   "name": "python3"
  },
  "language_info": {
   "codemirror_mode": {
    "name": "ipython",
    "version": 3
   },
   "file_extension": ".py",
   "mimetype": "text/x-python",
   "name": "python",
   "nbconvert_exporter": "python",
   "pygments_lexer": "ipython3",
   "version": "3.9.13"
  }
 },
 "nbformat": 4,
 "nbformat_minor": 5
}
