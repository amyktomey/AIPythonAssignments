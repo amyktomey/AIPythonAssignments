{
 "cells": [
  {
   "cell_type": "markdown",
   "id": "16161693",
   "metadata": {},
   "source": [
    "aaignments from 5/15"
   ]
  },
  {
   "cell_type": "markdown",
   "id": "4c5bb968",
   "metadata": {},
   "source": [
    "import random\n",
    "import string\n",
    "\n",
    "# Generate unique lottery numbers\n",
    "def generate_lottery_numbers(amount, lower, upper):\n",
    "    return random.sample(range(lower, upper + 1), amount)\n",
    "\n",
    "print(f\"Lottery numbers: {generate_lottery_numbers(7, 1, 40)}\")\n",
    "\n",
    "# Password generator\n",
    "def generate_password(length, use_special_chars=False):\n",
    "    chars = string.ascii_letters + string.digits\n",
    "    if use_special_chars:\n",
    "        chars += string.punctuation\n",
    "    return ''.join(random.choice(chars) for _ in range(length))\n",
    "\n",
    "print(f\"Simple password: {generate_password(10)}\")\n",
    "print(f\"Complex password: {generate_password(12, True)}\")"
   ]
  },
  {
   "cell_type": "markdown",
   "id": "124a25ac",
   "metadata": {},
   "source": [
    "Write a function to simulate rolling a six-sided die using random.randint(1, 6).\n",
    "Create a program to randomly shuffle a list of 5 names and print the new order.\n",
    "Modify the generate_password() function to ensure at least one uppercase letter is included.\n",
    "Use random.choice() to pick a random word from a list of 10 words and print it as a \"word of the day.\""
   ]
  },
  {
   "cell_type": "markdown",
   "id": "df80eb1d",
   "metadata": {},
   "source": [
    "Create a module called math_utils.py with functions to calculate the area of a rectangle and a triangle.\n",
    "\n",
    "Write a script that imports math_utils and uses both functions to print areas for given dimensions.\n",
    "\n",
    "Add a function to your module to calculate the perimeter of a rectangle and test it.\n",
    "\n",
    "Write a short docstring for each function in your module explaining what it does and its parameters."
   ]
  },
  {
   "cell_type": "markdown",
   "id": "1a5a3997",
   "metadata": {},
   "source": [
    "Practice Exercises\n",
    "Use a list comprehension to create a list of even numbers from 1 to 20.\n",
    "\n",
    "Write a lambda function to check if a number is divisible by 3 and use it with filter() on a list of numbers.\n",
    "\n",
    "Create a decorator that prints \"Starting...\" before a function runs and \"Done!\" after it finishes.\n",
    "\n",
    "Write a simple context manager that prints \"Opening connection\" on entry and \"Closing connection\" on exit."
   ]
  }
 ],
 "metadata": {
  "language_info": {
   "name": "python"
  }
 },
 "nbformat": 4,
 "nbformat_minor": 5
}
