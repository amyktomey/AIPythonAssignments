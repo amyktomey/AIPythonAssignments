{
 "cells": [
  {
   "cell_type": "code",
   "execution_count": null,
   "id": "9d3351ad",
   "metadata": {},
   "outputs": [],
   "source": [
    "name = \"Alice\" #statement\n",
    "Age_after_decade = 25 + 10  #expression\n",
    "\n",
    "#function definition\n",
    "def greet(user): #syntax - structure\n",
    "    print(f\"Hello, {user}\") #code nlock indented\n"
   ]
  },
  {
   "cell_type": "markdown",
   "id": "de282cee",
   "metadata": {},
   "source": [
    "##Grade Classification Stsyem"
   ]
  },
  {
   "cell_type": "markdown",
   "id": "7ba4df8e",
   "metadata": {},
   "source": [
    "score = float(input(\"What is your score? \"))\n",
    "\n",
    "if score > 100 or score < 0:\n",
    "    print(f\"{score}is an invalid score: \")\n",
    "elif score  >= 90:\n",
    "    print(\"Grade: A\")\n",
    "elif score  >= 80:\n",
    "    print(\"Grade: B\")\n",
    "elif score  <= 70:\n",
    "    print(\"Grade: C\")\n",
    "elif score  <= 60:\n",
    "    print(\"Grade: D\")\n",
    "elif score  > 60:\n",
    "    print(\"You shall not pass.\")"
   ]
  },
  {
   "cell_type": "code",
   "execution_count": 15,
   "id": "d4ddbea2",
   "metadata": {},
   "outputs": [
    {
     "name": "stdout",
     "output_type": "stream",
     "text": [
      "No discount available\n",
      "No discount available\n"
     ]
    }
   ],
   "source": [
    "is_member = True\n",
    "purchase_amount = int(input(\"Enter your total purchase: \"))\n",
    "if is_member and purchase_amount >200:\n",
    "    print(\"Eligible for premium discount!\")\n",
    "elif is_member and purchase_amount >100:\n",
    "    print(\"Standars discount available\")\n",
    "else:\n",
    "    print(\"No discount available\")\n",
    "\n",
    "age = int(input(\"Enter your age? \"))\n",
    "student = input(bool(\"Are you a student? (yes or no)  \"))\n",
    "yes = True\n",
    "if age >= 18 and student == True:\n",
    "    print(\"Standard discount available\")\n",
    "else:\n",
    "    print(\"No discount available\")"
   ]
  },
  {
   "cell_type": "markdown",
   "id": "efe55d29",
   "metadata": {},
   "source": [
    "# find the code!\n",
    "\n",
    "\n",
    "<!-- print(\"\\n AND operator Truth Table)\n",
    "print(\"a\\tb\\t a b\")\n",
    "for a in [False, True]:\n",
    "    for b in [False, False]:\n",
    "        print(f\"{a}\\{b}\\{a and b}\") -->\n"
   ]
  },
  {
   "cell_type": "code",
   "execution_count": 5,
   "id": "03fd9c58",
   "metadata": {},
   "outputs": [
    {
     "name": "stdout",
     "output_type": "stream",
     "text": [
      "Too high, try again\n",
      "Congratulations! You guessed the secret number!\n"
     ]
    }
   ],
   "source": [
    "import random\n",
    "secret_number = random.randint(1, 10)\n",
    "\n",
    "while True:\n",
    "    guess = int(input(\"Guess the secret number (1-10)\"))\n",
    "    if guess == secret_number:\n",
    "        print(\"Congratulations! You guessed the secret number!\")\n",
    "        break\n",
    "    elif guess < secret_number:\n",
    "        print (\"Too low, try again\")\n",
    "    elif guess > secret_number:\n",
    "        print (\"Too high, try again\")\n"
   ]
  },
  {
   "cell_type": "code",
   "execution_count": 7,
   "id": "d8cbb82f",
   "metadata": {},
   "outputs": [
    {
     "name": "stdout",
     "output_type": "stream",
     "text": [
      "Age 52 is valid.\n"
     ]
    }
   ],
   "source": [
    "valid = False\n",
    "while not valid:\n",
    "    try:\n",
    "        user_age = int(input(\"Enter age (0-120): \"))\n",
    "        if 0 <= user_age < 120:\n",
    "            print(f\"Age {user_age} is valid.\")\n",
    "            valid = True\n",
    "        else:\n",
    "            print(\"age is out of range\")\n",
    "    except ValueError:\n",
    "        print(\"Invalid intput.  Please enter a number.\")"
   ]
  },
  {
   "cell_type": "markdown",
   "id": "846d9d64",
   "metadata": {},
   "source": [
    "   Debugging Examples\n",
    " -----------------------\n",
    " Example 1 Infinite Loop"
   ]
  },
  {
   "cell_type": "code",
   "execution_count": null,
   "id": "7d35679a",
   "metadata": {},
   "outputs": [
    {
     "name": "stdout",
     "output_type": "stream",
     "text": [
      "10\n",
      "9\n",
      "8\n",
      "7\n",
      "6\n",
      "5\n",
      "4\n",
      "3\n",
      "2\n",
      "1\n"
     ]
    }
   ],
   "source": [
    "count = 10\n",
    "while count > 0: \n",
    "    print(count)\n",
    "    count -= 1 # reduce by one\n",
    "  "
   ]
  },
  {
   "cell_type": "code",
   "execution_count": null,
   "id": "6dd22b6f",
   "metadata": {},
   "outputs": [],
   "source": [
    "temps = []   ####### fiind the error - infinite loop?\n",
    "\n",
    "while True:\n",
    "    entry = input(\"Enter temperature or done: \" )\n",
    "    if entry.lower() == 'done':\n",
    "        break\n",
    "    try:\n",
    "        temp = float(entry)\n",
    "        temps.append(temp)\n",
    "    except ValueError:\n",
    "        print(\"Invalid Input. Try again.\")\n",
    "        continue\n",
    "\n",
    "    print(f\"Current Average: (sum{temps})/(len{temps}\")"
   ]
  },
  {
   "cell_type": "code",
   "execution_count": null,
   "id": "a6ec4658",
   "metadata": {},
   "outputs": [],
   "source": [
    "size = 5 # initial size\n",
    "for 1 in range(1, size+1):\n",
    "    for j in range(i):\n",
    "        print(\"*\", end=\"\")\n",
    "    print(\"\")\n",
    "\n",
    "\n",
    "\n",
    "    #what is i?"
   ]
  },
  {
   "cell_type": "code",
   "execution_count": 16,
   "id": "d74051b7",
   "metadata": {},
   "outputs": [
    {
     "name": "stdout",
     "output_type": "stream",
     "text": [
      "27\n",
      "my first 5 charqachters: Hlo ol!I' oeYu\n"
     ]
    }
   ],
   "source": [
    "my_string = \"Hello, World! It's Code:You\"\n",
    "print(len(my_string)) # length of string\n",
    "print(f\"my first 5 charqachters: {my_string[::2]}\")\n",
    "\n",
    "\n",
    "#start:end:step"
   ]
  },
  {
   "cell_type": "code",
   "execution_count": 17,
   "id": "9bf9b626",
   "metadata": {},
   "outputs": [
    {
     "name": "stdout",
     "output_type": "stream",
     "text": [
      "important Notice\n",
      "----------------\n"
     ]
    }
   ],
   "source": [
    "def underline(text, symbol='-'):\n",
    "    print(text)\n",
    "    print(symbol * len(text))\n",
    "\n",
    "underline(\"important Notice\", symbol='-')"
   ]
  },
  {
   "cell_type": "code",
   "execution_count": 19,
   "id": "680c0611",
   "metadata": {},
   "outputs": [
    {
     "name": "stdout",
     "output_type": "stream",
     "text": [
      "Area of circle with radius 5: 78.5\n",
      "Area of square with side 4: 16\n"
     ]
    }
   ],
   "source": [
    "\n",
    "#area.py   python area.py\n",
    "#__name__ is set to the file name\n",
    "\n",
    "#circle or square shape, dimension\n",
    "def calculate_area(shape, dimension):\n",
    "    if shape ==\"circle\":\n",
    "        return 3.14 * (dimension ** 2)\n",
    "    elif shape==\"square\":\n",
    "        return dimension ** 2\n",
    "    else:\n",
    "        return None\n",
    "if __name__ == \"__main__\":   #dunder function\n",
    "    print(\"Area of circle with radius 5:\" , calculate_area(\"circle\", 5))\n",
    "    print(\"Area of square with side 4:\" , calculate_area(\"square\", 4))"
   ]
  }
 ],
 "metadata": {
  "kernelspec": {
   "display_name": "Python 3",
   "language": "python",
   "name": "python3"
  },
  "language_info": {
   "codemirror_mode": {
    "name": "ipython",
    "version": 3
   },
   "file_extension": ".py",
   "mimetype": "text/x-python",
   "name": "python",
   "nbconvert_exporter": "python",
   "pygments_lexer": "ipython3",
   "version": "3.9.13"
  }
 },
 "nbformat": 4,
 "nbformat_minor": 5
}
