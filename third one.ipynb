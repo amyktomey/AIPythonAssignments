{
 "cells": [
  {
   "cell_type": "code",
   "execution_count": null,
   "id": "fef8f7b4",
   "metadata": {},
   "outputs": [],
   "source": [
    "#data structures\n",
    "#### tuples, lists, dictionaries, sequonces\n",
    "####functions, lambda\n",
    "\n",
    "['apple', 'banana', 'cherry']\n",
    "fruits.insert[4, 'strawberry']\n",
    "print (fruits)"
   ]
  },
  {
   "cell_type": "code",
   "execution_count": null,
   "id": "6df3bb1e",
   "metadata": {},
   "outputs": [],
   "source": [
    "fruits = ['apple', 'banana', 'cherry'] #list\n",
    "days = ('Monday','Tuesday', 'Wednesday', 'Thursday', 'Friday', 'Saturday', 'Sunday') #tuple\n"
   ]
  },
  {
   "cell_type": "markdown",
   "id": "9b856593",
   "metadata": {},
   "source": []
  }
 ],
 "metadata": {
  "language_info": {
   "name": "python"
  }
 },
 "nbformat": 4,
 "nbformat_minor": 5
}
