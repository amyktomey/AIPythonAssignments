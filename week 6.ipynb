{
 "cells": [
  {
   "cell_type": "markdown",
   "id": "be179536",
   "metadata": {},
   "source": [
    "file reading techniques"
   ]
  },
  {
   "cell_type": "code",
   "execution_count": null,
   "id": "a81d7195",
   "metadata": {},
   "outputs": [],
   "source": [
    "def find_largest_number(numbers.txt):\n",
    "    largest = float('-inf')\n",
    "    with open(numbers.txt, 'r') as file:\n",
    "        for line in file:\n",
    "            try:\n",
    "                num = int(line.strip)\n",
    "                largest = max(largest, num)\n",
    "            except ValueError:\n",
    "                print('Skipping invalid line: {line.strip()}')\n",
    "        return largest\n",
    "\n",
    "print(find_largest_number('numbers.txt'))"
   ]
  },
  {
   "cell_type": "code",
   "execution_count": null,
   "id": "2795ac08",
   "metadata": {},
   "outputs": [],
   "source": [
    "def process_fruit_prices(fruits.txt):\n",
    "    Fruit_rices = {}}\n",
    "    with open(numbers.txt, 'r') as file:\n",
    "        for line in file:\n",
    "            try:\n",
    "                num = int(line.strip)\n",
    "                largest = max(largest, num)\n",
    "            except ValueError:\n",
    "                print('Skipping invalid line: {line.strip()}')\n",
    "        return largest\n",
    "\n",
    "print(find_largest_number('numbers.txt'))"
   ]
  }
 ],
 "metadata": {
  "kernelspec": {
   "display_name": "Python 3",
   "language": "python",
   "name": "python3"
  },
  "language_info": {
   "name": "python",
   "version": "3.9.13"
  }
 },
 "nbformat": 4,
 "nbformat_minor": 5
}
